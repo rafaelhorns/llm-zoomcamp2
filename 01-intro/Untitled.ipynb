{
 "cells": [
  {
   "cell_type": "code",
   "execution_count": 1,
   "id": "6568c203-46f8-4553-95c3-08663840e8f6",
   "metadata": {},
   "outputs": [],
   "source": [
    "import openai"
   ]
  },
  {
   "cell_type": "code",
   "execution_count": 2,
   "id": "f8a90895-cf7d-46e0-af20-661b76cdef31",
   "metadata": {},
   "outputs": [],
   "source": [
    "from openai import OpenAI"
   ]
  },
  {
   "cell_type": "code",
   "execution_count": 3,
   "id": "3c360204-5343-4d69-be75-970878b2452b",
   "metadata": {},
   "outputs": [],
   "source": [
    "client = OpenAI()"
   ]
  },
  {
   "cell_type": "code",
   "execution_count": 4,
   "id": "14302cec-5085-463b-856a-6fc3faf3a021",
   "metadata": {},
   "outputs": [],
   "source": [
    "import os"
   ]
  },
  {
   "cell_type": "code",
   "execution_count": 8,
   "id": "a21f1eeb-295f-4987-a399-fa6992f2e944",
   "metadata": {},
   "outputs": [],
   "source": [
    "response=client.chat.completions.create(\n",
    "    model='gpt-4o',\n",
    "    messages=[{\"role\": \"user\", \"content\": \"is it too late to join the course?\"}]\n",
    ")"
   ]
  },
  {
   "cell_type": "code",
   "execution_count": 9,
   "id": "bba00896-2508-4aab-a4bf-680e989077aa",
   "metadata": {},
   "outputs": [
    {
     "data": {
      "text/plain": [
       "\"I'm not sure which course you're referring to, so I can't provide specific details. Generally speaking, whether it's too late to join a course depends on several factors:\\n\\n1. **Enrollment Deadlines**: Check the enrollment or registration deadlines for the course. If those deadlines have passed, it might be too late to join.\\n\\n2. **Course Structure**: Some courses have a flexible start date or allow late entries, especially if they are self-paced or online. Traditional classroom-based courses might be less flexible.\\n\\n3. **Duration and Content**: Consider how much of the course content you would have missed. If the course has been running for a long time, catching up might be challenging.\\n\\n4. **Instructor Policies**: Reach out to the instructor or the institution offering the course to see if exceptions or late enrollments are possible.\\n\\nIf you provide more details about the specific course you're interested in, I might be able to help you further.\""
      ]
     },
     "execution_count": 9,
     "metadata": {},
     "output_type": "execute_result"
    }
   ],
   "source": [
    "response.choices[0].message.content"
   ]
  }
 ],
 "metadata": {
  "kernelspec": {
   "display_name": "Python 3 (ipykernel)",
   "language": "python",
   "name": "python3"
  },
  "language_info": {
   "codemirror_mode": {
    "name": "ipython",
    "version": 3
   },
   "file_extension": ".py",
   "mimetype": "text/x-python",
   "name": "python",
   "nbconvert_exporter": "python",
   "pygments_lexer": "ipython3",
   "version": "3.12.1"
  }
 },
 "nbformat": 4,
 "nbformat_minor": 5
}
